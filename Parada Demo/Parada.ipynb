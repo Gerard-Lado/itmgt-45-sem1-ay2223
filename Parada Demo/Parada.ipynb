{
 "cells": [
  {
   "cell_type": "code",
   "execution_count": 2,
   "id": "b77ee3b3",
   "metadata": {},
   "outputs": [
    {
     "data": {
      "application/vnd.plotly.v1+json": {
       "config": {
        "plotlyServerURL": "https://plot.ly"
       },
       "data": [
        {
         "customdata": [
          [
           "Regis Front Parking",
           "Establishment",
           "vacant"
          ],
          [
           "Regis Basement Parking",
           "Establishment",
           "vacant"
          ],
          [
           "Shakey's Katipunan Parking",
           "Restaurant",
           "vacant"
          ],
          [
           "McDonald's Katipunan Parking",
           "Restaurant",
           "taken"
          ],
          [
           "Pop Up Katipunan Parking",
           "Establishment",
           "taken"
          ],
          [
           "SM Blue Front Parking",
           "Establishment",
           "taken"
          ],
          [
           "Techtite Parking",
           "Establishment",
           "taken"
          ],
          [
           "22 F Dela Rosa QC Parking (across \"MyPlace\")",
           "Establishment",
           "taken"
          ],
          [
           "Tyler's Cafe Parking",
           "Restaurant",
           "taken"
          ],
          [
           "Gino's Brick Oven Pizza Parking",
           "Restaurant",
           "taken"
          ],
          [
           "Jollibee Front Parking",
           "Restaurant",
           "taken"
          ],
          [
           "Jollibee Back Parking",
           "Restaurant",
           "taken"
          ],
          [
           "Kenny Rogers Parking",
           "Restaurant",
           "taken"
          ],
          [
           "Prince David Front Parking",
           "Establishment",
           "taken"
          ],
          [
           "One Burgundy Plaza Front Parking",
           "Establishment",
           "taken"
          ],
          [
           "Vista Residences Front Parking",
           "Establishment",
           "taken"
          ],
          [
           "Starbucks Parking",
           "Restaurant",
           "taken"
          ],
          [
           "National Bookstore Parking",
           "Supplies",
           "taken"
          ],
          [
           "Army Navy Parking",
           "Restaurant",
           "taken"
          ],
          [
           "BDO Parking",
           "Bank",
           "taken"
          ],
          [
           "Torre Lorenzo Parking",
           "Establishment",
           "taken"
          ],
          [
           "Cello's Doughnuts Parking",
           "Restaurant",
           "taken"
          ],
          [
           "FBR Arcade Parking",
           "Establishment",
           "taken"
          ],
          [
           "Yellow Cab Parking",
           "Restaurant",
           "taken"
          ],
          [
           "Oracle Basement Parking",
           "Establishment",
           "taken"
          ],
          [
           "PSBank Parking",
           "Bank",
           "taken"
          ],
          [
           "KFC Parking",
           "Restaurant",
           "taken"
          ],
          [
           "Mercury Drug Parking",
           "Pharmacy",
           "taken"
          ],
          [
           "Sweet Inspirations Parking",
           "Restaurant",
           "taken"
          ],
          [
           "Crowne One Parking Space",
           "Establishment",
           "taken"
          ],
          [
           "Loyola Heights Condominum Front Parking",
           "Establishment",
           "taken"
          ],
          [
           "Casa Boronesa Front Parking",
           "Establishment",
           "taken"
          ],
          [
           "SMRC Building 1 Front Parking",
           "Establishment",
           "taken"
          ],
          [
           "Petron Katipunan Front Parking",
           "Gas Station",
           "taken"
          ],
          [
           "Petron Katipunan Basement Parking",
           "Gas Station",
           "taken"
          ],
          [
           "Santa Maria della Strada Parish",
           "Church",
           "taken"
          ],
          [
           "UP Town Center Parking (Landers Entrance)",
           "Shopping Mall",
           "taken"
          ],
          [
           "UP Town Center Parking (Mango Entrance)",
           "Shopping Mall",
           "taken"
          ],
          [
           "Chinabank Parking",
           "Bank",
           "taken"
          ],
          [
           "Eastwest Bank Parking",
           "Bank",
           "taken"
          ],
          [
           "#333 Golan Bldng (Robinson's Marketplace) Front Parking",
           "Establishment",
           "taken"
          ],
          [
           "Dormitoryana Front Parking",
           "Student Dormitory",
           "taken"
          ],
          [
           "Agor Building Front Parking ",
           "Establishment",
           "taken"
          ],
          [
           "MR.Quickie Front Parking",
           "Establishment",
           "taken"
          ],
          [
           "Studio 337 Salon & Spa Front Parking",
           "Spa",
           "taken"
          ],
          [
           "Metrobank Front Parking",
           "Bank",
           "taken"
          ],
          [
           "Metrobank Side Parking",
           "Bank",
           "taken"
          ],
          [
           "Savemore Market Front Parking",
           "Grocery Store",
           "taken"
          ],
          [
           "BDO Berkely Front Parking",
           "Bank",
           "taken"
          ],
          [
           "BPI Front Parking",
           "Bank",
           "taken"
          ],
          [
           "Shell Back Parking",
           "Gas Station",
           "taken"
          ],
          [
           "Elizabeth Hall Front Parking",
           "Dormitory",
           "taken"
          ],
          [
           "Bellagio Residences Front parking",
           "Condominium",
           "taken"
          ],
          [
           "Rubicon Hardware Front Parking",
           "Establishment",
           "taken"
          ],
          [
           "Alcal Building Front Parking",
           "Establishment",
           "taken"
          ],
          [
           "One Avisha Residences",
           "Establishment",
           "taken"
          ],
          [
           "MQI Center Front Parking",
           "Establishment",
           "taken"
          ],
          [
           "AAP Building Front Parking",
           "Establishment",
           "taken"
          ],
          [
           "Got Heart Shop Front Parking",
           "Establishment",
           "taken"
          ],
          [
           "test",
           "test",
           "vacant"
          ],
          [
           "test",
           "test",
           "vacant"
          ]
         ],
         "hovertemplate": "<b>%{hovertext}</b><br><br>lat=%{lat}<br>lng=%{lon}<br>Name=%{customdata[0]}<br>type=%{customdata[1]}<br>status=%{customdata[2]}<extra></extra>",
         "hovertext": [
          1,
          2,
          3,
          4,
          5,
          6,
          7,
          8,
          9,
          10,
          11,
          12,
          13,
          14,
          15,
          16,
          17,
          18,
          19,
          20,
          21,
          22,
          23,
          24,
          25,
          26,
          27,
          28,
          29,
          30,
          31,
          32,
          33,
          34,
          35,
          36,
          37,
          38,
          39,
          40,
          41,
          42,
          43,
          44,
          45,
          46,
          47,
          48,
          49,
          50,
          51,
          52,
          53,
          54,
          55,
          56,
          57,
          58,
          59,
          60,
          61
         ],
         "lat": [
          14.640934,
          14.640839,
          14.636389,
          14.635833,
          14.63334968,
          14.63273929,
          14.640502,
          14.640366,
          14.639553,
          14.639604,
          14.63727745,
          14.63740331,
          14.63757449,
          14.63770737,
          14.6379417,
          14.63828149,
          14.63680269,
          14.63690645,
          14.63703824,
          14.6371765,
          14.63658469,
          14.63887849,
          14.63911518,
          14.63930781,
          14.63924956,
          14.63868505,
          14.64038459,
          14.64020956,
          14.63883057,
          14.639986,
          14.640553,
          14.641312,
          14.64254354,
          14.64660535,
          14.64667217,
          14.64744312,
          14.64947136,
          14.65286651,
          14.64690471,
          14.64667356,
          14.64284603,
          14.64238276,
          14.643107,
          14.643266,
          14.643449,
          14.643704,
          14.643556,
          14.644548,
          14.644796,
          14.645176,
          14.646,
          14.646614,
          14.634244,
          14.633954,
          14.635166,
          14.636259,
          14.6361915,
          14.639069,
          14.639063,
          14.63907,
          14.63905
         ],
         "legendgroup": "",
         "lon": [
          121.074406,
          121.074194,
          121.073889,
          121.073889,
          121.0736428,
          121.0745499,
          121.073925,
          121.07357,
          121.074315,
          121.074325,
          121.0742613,
          121.0738535,
          121.0739007,
          121.074208,
          121.0741222,
          121.0742666,
          121.0741589,
          121.0741638,
          121.0741465,
          121.0740662,
          121.0741375,
          121.0742756,
          121.0742503,
          121.0742928,
          121.0742696,
          121.0742472,
          121.0743351,
          121.0743283,
          121.0742714,
          121.073308,
          121.073335,
          121.073431,
          121.0744234,
          121.0748654,
          121.0748292,
          121.0748729,
          121.0759968,
          121.0750604,
          121.0740176,
          121.0741196,
          121.0743508,
          121.0741814,
          121.074467,
          121.074482,
          121.074494,
          121.074455,
          121.074366,
          121.07439,
          121.07437,
          121.074231,
          121.073903,
          121.074101,
          121.074121,
          121.07385,
          121.074094,
          121.073483,
          121.0731899,
          121.073288,
          121.073184,
          121.0733,
          121.0732
         ],
         "marker": {
          "color": "fuchsia"
         },
         "mode": "markers",
         "name": "",
         "showlegend": false,
         "subplot": "mapbox",
         "type": "scattermapbox"
        }
       ],
       "layout": {
        "height": 300,
        "legend": {
         "tracegroupgap": 0
        },
        "mapbox": {
         "accesstoken": "pk.eyJ1IjoiZ2VyYXJkc2FiaWxhZG8iLCJhIjoiY2xhbGg4Zzc4MDBkdzNubGdoYXQ5aWdoeCJ9.YQ97lBCUcW4Vl-wQExabgw",
         "center": {
          "lat": 14.640459127377046,
          "lon": 121.07413150163934
         },
         "domain": {
          "x": [
           0,
           1
          ],
          "y": [
           0,
           1
          ]
         },
         "style": "mapbox://styles/gerardsabilado/claliebfr001b14pcgzu8sn1j",
         "zoom": 13
        },
        "margin": {
         "b": 0,
         "l": 0,
         "r": 0,
         "t": 0
        },
        "template": {
         "data": {
          "bar": [
           {
            "error_x": {
             "color": "#2a3f5f"
            },
            "error_y": {
             "color": "#2a3f5f"
            },
            "marker": {
             "line": {
              "color": "#E5ECF6",
              "width": 0.5
             },
             "pattern": {
              "fillmode": "overlay",
              "size": 10,
              "solidity": 0.2
             }
            },
            "type": "bar"
           }
          ],
          "barpolar": [
           {
            "marker": {
             "line": {
              "color": "#E5ECF6",
              "width": 0.5
             },
             "pattern": {
              "fillmode": "overlay",
              "size": 10,
              "solidity": 0.2
             }
            },
            "type": "barpolar"
           }
          ],
          "carpet": [
           {
            "aaxis": {
             "endlinecolor": "#2a3f5f",
             "gridcolor": "white",
             "linecolor": "white",
             "minorgridcolor": "white",
             "startlinecolor": "#2a3f5f"
            },
            "baxis": {
             "endlinecolor": "#2a3f5f",
             "gridcolor": "white",
             "linecolor": "white",
             "minorgridcolor": "white",
             "startlinecolor": "#2a3f5f"
            },
            "type": "carpet"
           }
          ],
          "choropleth": [
           {
            "colorbar": {
             "outlinewidth": 0,
             "ticks": ""
            },
            "type": "choropleth"
           }
          ],
          "contour": [
           {
            "colorbar": {
             "outlinewidth": 0,
             "ticks": ""
            },
            "colorscale": [
             [
              0,
              "#0d0887"
             ],
             [
              0.1111111111111111,
              "#46039f"
             ],
             [
              0.2222222222222222,
              "#7201a8"
             ],
             [
              0.3333333333333333,
              "#9c179e"
             ],
             [
              0.4444444444444444,
              "#bd3786"
             ],
             [
              0.5555555555555556,
              "#d8576b"
             ],
             [
              0.6666666666666666,
              "#ed7953"
             ],
             [
              0.7777777777777778,
              "#fb9f3a"
             ],
             [
              0.8888888888888888,
              "#fdca26"
             ],
             [
              1,
              "#f0f921"
             ]
            ],
            "type": "contour"
           }
          ],
          "contourcarpet": [
           {
            "colorbar": {
             "outlinewidth": 0,
             "ticks": ""
            },
            "type": "contourcarpet"
           }
          ],
          "heatmap": [
           {
            "colorbar": {
             "outlinewidth": 0,
             "ticks": ""
            },
            "colorscale": [
             [
              0,
              "#0d0887"
             ],
             [
              0.1111111111111111,
              "#46039f"
             ],
             [
              0.2222222222222222,
              "#7201a8"
             ],
             [
              0.3333333333333333,
              "#9c179e"
             ],
             [
              0.4444444444444444,
              "#bd3786"
             ],
             [
              0.5555555555555556,
              "#d8576b"
             ],
             [
              0.6666666666666666,
              "#ed7953"
             ],
             [
              0.7777777777777778,
              "#fb9f3a"
             ],
             [
              0.8888888888888888,
              "#fdca26"
             ],
             [
              1,
              "#f0f921"
             ]
            ],
            "type": "heatmap"
           }
          ],
          "heatmapgl": [
           {
            "colorbar": {
             "outlinewidth": 0,
             "ticks": ""
            },
            "colorscale": [
             [
              0,
              "#0d0887"
             ],
             [
              0.1111111111111111,
              "#46039f"
             ],
             [
              0.2222222222222222,
              "#7201a8"
             ],
             [
              0.3333333333333333,
              "#9c179e"
             ],
             [
              0.4444444444444444,
              "#bd3786"
             ],
             [
              0.5555555555555556,
              "#d8576b"
             ],
             [
              0.6666666666666666,
              "#ed7953"
             ],
             [
              0.7777777777777778,
              "#fb9f3a"
             ],
             [
              0.8888888888888888,
              "#fdca26"
             ],
             [
              1,
              "#f0f921"
             ]
            ],
            "type": "heatmapgl"
           }
          ],
          "histogram": [
           {
            "marker": {
             "pattern": {
              "fillmode": "overlay",
              "size": 10,
              "solidity": 0.2
             }
            },
            "type": "histogram"
           }
          ],
          "histogram2d": [
           {
            "colorbar": {
             "outlinewidth": 0,
             "ticks": ""
            },
            "colorscale": [
             [
              0,
              "#0d0887"
             ],
             [
              0.1111111111111111,
              "#46039f"
             ],
             [
              0.2222222222222222,
              "#7201a8"
             ],
             [
              0.3333333333333333,
              "#9c179e"
             ],
             [
              0.4444444444444444,
              "#bd3786"
             ],
             [
              0.5555555555555556,
              "#d8576b"
             ],
             [
              0.6666666666666666,
              "#ed7953"
             ],
             [
              0.7777777777777778,
              "#fb9f3a"
             ],
             [
              0.8888888888888888,
              "#fdca26"
             ],
             [
              1,
              "#f0f921"
             ]
            ],
            "type": "histogram2d"
           }
          ],
          "histogram2dcontour": [
           {
            "colorbar": {
             "outlinewidth": 0,
             "ticks": ""
            },
            "colorscale": [
             [
              0,
              "#0d0887"
             ],
             [
              0.1111111111111111,
              "#46039f"
             ],
             [
              0.2222222222222222,
              "#7201a8"
             ],
             [
              0.3333333333333333,
              "#9c179e"
             ],
             [
              0.4444444444444444,
              "#bd3786"
             ],
             [
              0.5555555555555556,
              "#d8576b"
             ],
             [
              0.6666666666666666,
              "#ed7953"
             ],
             [
              0.7777777777777778,
              "#fb9f3a"
             ],
             [
              0.8888888888888888,
              "#fdca26"
             ],
             [
              1,
              "#f0f921"
             ]
            ],
            "type": "histogram2dcontour"
           }
          ],
          "mesh3d": [
           {
            "colorbar": {
             "outlinewidth": 0,
             "ticks": ""
            },
            "type": "mesh3d"
           }
          ],
          "parcoords": [
           {
            "line": {
             "colorbar": {
              "outlinewidth": 0,
              "ticks": ""
             }
            },
            "type": "parcoords"
           }
          ],
          "pie": [
           {
            "automargin": true,
            "type": "pie"
           }
          ],
          "scatter": [
           {
            "marker": {
             "colorbar": {
              "outlinewidth": 0,
              "ticks": ""
             }
            },
            "type": "scatter"
           }
          ],
          "scatter3d": [
           {
            "line": {
             "colorbar": {
              "outlinewidth": 0,
              "ticks": ""
             }
            },
            "marker": {
             "colorbar": {
              "outlinewidth": 0,
              "ticks": ""
             }
            },
            "type": "scatter3d"
           }
          ],
          "scattercarpet": [
           {
            "marker": {
             "colorbar": {
              "outlinewidth": 0,
              "ticks": ""
             }
            },
            "type": "scattercarpet"
           }
          ],
          "scattergeo": [
           {
            "marker": {
             "colorbar": {
              "outlinewidth": 0,
              "ticks": ""
             }
            },
            "type": "scattergeo"
           }
          ],
          "scattergl": [
           {
            "marker": {
             "colorbar": {
              "outlinewidth": 0,
              "ticks": ""
             }
            },
            "type": "scattergl"
           }
          ],
          "scattermapbox": [
           {
            "marker": {
             "colorbar": {
              "outlinewidth": 0,
              "ticks": ""
             }
            },
            "type": "scattermapbox"
           }
          ],
          "scatterpolar": [
           {
            "marker": {
             "colorbar": {
              "outlinewidth": 0,
              "ticks": ""
             }
            },
            "type": "scatterpolar"
           }
          ],
          "scatterpolargl": [
           {
            "marker": {
             "colorbar": {
              "outlinewidth": 0,
              "ticks": ""
             }
            },
            "type": "scatterpolargl"
           }
          ],
          "scatterternary": [
           {
            "marker": {
             "colorbar": {
              "outlinewidth": 0,
              "ticks": ""
             }
            },
            "type": "scatterternary"
           }
          ],
          "surface": [
           {
            "colorbar": {
             "outlinewidth": 0,
             "ticks": ""
            },
            "colorscale": [
             [
              0,
              "#0d0887"
             ],
             [
              0.1111111111111111,
              "#46039f"
             ],
             [
              0.2222222222222222,
              "#7201a8"
             ],
             [
              0.3333333333333333,
              "#9c179e"
             ],
             [
              0.4444444444444444,
              "#bd3786"
             ],
             [
              0.5555555555555556,
              "#d8576b"
             ],
             [
              0.6666666666666666,
              "#ed7953"
             ],
             [
              0.7777777777777778,
              "#fb9f3a"
             ],
             [
              0.8888888888888888,
              "#fdca26"
             ],
             [
              1,
              "#f0f921"
             ]
            ],
            "type": "surface"
           }
          ],
          "table": [
           {
            "cells": {
             "fill": {
              "color": "#EBF0F8"
             },
             "line": {
              "color": "white"
             }
            },
            "header": {
             "fill": {
              "color": "#C8D4E3"
             },
             "line": {
              "color": "white"
             }
            },
            "type": "table"
           }
          ]
         },
         "layout": {
          "annotationdefaults": {
           "arrowcolor": "#2a3f5f",
           "arrowhead": 0,
           "arrowwidth": 1
          },
          "autotypenumbers": "strict",
          "coloraxis": {
           "colorbar": {
            "outlinewidth": 0,
            "ticks": ""
           }
          },
          "colorscale": {
           "diverging": [
            [
             0,
             "#8e0152"
            ],
            [
             0.1,
             "#c51b7d"
            ],
            [
             0.2,
             "#de77ae"
            ],
            [
             0.3,
             "#f1b6da"
            ],
            [
             0.4,
             "#fde0ef"
            ],
            [
             0.5,
             "#f7f7f7"
            ],
            [
             0.6,
             "#e6f5d0"
            ],
            [
             0.7,
             "#b8e186"
            ],
            [
             0.8,
             "#7fbc41"
            ],
            [
             0.9,
             "#4d9221"
            ],
            [
             1,
             "#276419"
            ]
           ],
           "sequential": [
            [
             0,
             "#0d0887"
            ],
            [
             0.1111111111111111,
             "#46039f"
            ],
            [
             0.2222222222222222,
             "#7201a8"
            ],
            [
             0.3333333333333333,
             "#9c179e"
            ],
            [
             0.4444444444444444,
             "#bd3786"
            ],
            [
             0.5555555555555556,
             "#d8576b"
            ],
            [
             0.6666666666666666,
             "#ed7953"
            ],
            [
             0.7777777777777778,
             "#fb9f3a"
            ],
            [
             0.8888888888888888,
             "#fdca26"
            ],
            [
             1,
             "#f0f921"
            ]
           ],
           "sequentialminus": [
            [
             0,
             "#0d0887"
            ],
            [
             0.1111111111111111,
             "#46039f"
            ],
            [
             0.2222222222222222,
             "#7201a8"
            ],
            [
             0.3333333333333333,
             "#9c179e"
            ],
            [
             0.4444444444444444,
             "#bd3786"
            ],
            [
             0.5555555555555556,
             "#d8576b"
            ],
            [
             0.6666666666666666,
             "#ed7953"
            ],
            [
             0.7777777777777778,
             "#fb9f3a"
            ],
            [
             0.8888888888888888,
             "#fdca26"
            ],
            [
             1,
             "#f0f921"
            ]
           ]
          },
          "colorway": [
           "#636efa",
           "#EF553B",
           "#00cc96",
           "#ab63fa",
           "#FFA15A",
           "#19d3f3",
           "#FF6692",
           "#B6E880",
           "#FF97FF",
           "#FECB52"
          ],
          "font": {
           "color": "#2a3f5f"
          },
          "geo": {
           "bgcolor": "white",
           "lakecolor": "white",
           "landcolor": "#E5ECF6",
           "showlakes": true,
           "showland": true,
           "subunitcolor": "white"
          },
          "hoverlabel": {
           "align": "left"
          },
          "hovermode": "closest",
          "mapbox": {
           "style": "light"
          },
          "paper_bgcolor": "white",
          "plot_bgcolor": "#E5ECF6",
          "polar": {
           "angularaxis": {
            "gridcolor": "white",
            "linecolor": "white",
            "ticks": ""
           },
           "bgcolor": "#E5ECF6",
           "radialaxis": {
            "gridcolor": "white",
            "linecolor": "white",
            "ticks": ""
           }
          },
          "scene": {
           "xaxis": {
            "backgroundcolor": "#E5ECF6",
            "gridcolor": "white",
            "gridwidth": 2,
            "linecolor": "white",
            "showbackground": true,
            "ticks": "",
            "zerolinecolor": "white"
           },
           "yaxis": {
            "backgroundcolor": "#E5ECF6",
            "gridcolor": "white",
            "gridwidth": 2,
            "linecolor": "white",
            "showbackground": true,
            "ticks": "",
            "zerolinecolor": "white"
           },
           "zaxis": {
            "backgroundcolor": "#E5ECF6",
            "gridcolor": "white",
            "gridwidth": 2,
            "linecolor": "white",
            "showbackground": true,
            "ticks": "",
            "zerolinecolor": "white"
           }
          },
          "shapedefaults": {
           "line": {
            "color": "#2a3f5f"
           }
          },
          "ternary": {
           "aaxis": {
            "gridcolor": "white",
            "linecolor": "white",
            "ticks": ""
           },
           "baxis": {
            "gridcolor": "white",
            "linecolor": "white",
            "ticks": ""
           },
           "bgcolor": "#E5ECF6",
           "caxis": {
            "gridcolor": "white",
            "linecolor": "white",
            "ticks": ""
           }
          },
          "title": {
           "x": 0.05
          },
          "xaxis": {
           "automargin": true,
           "gridcolor": "white",
           "linecolor": "white",
           "ticks": "",
           "title": {
            "standoff": 15
           },
           "zerolinecolor": "white",
           "zerolinewidth": 2
          },
          "yaxis": {
           "automargin": true,
           "gridcolor": "white",
           "linecolor": "white",
           "ticks": "",
           "title": {
            "standoff": 15
           },
           "zerolinecolor": "white",
           "zerolinewidth": 2
          }
         }
        }
       }
      }
     },
     "metadata": {},
     "output_type": "display_data"
    },
    {
     "ename": "KeyboardInterrupt",
     "evalue": "",
     "output_type": "error",
     "traceback": [
      "\u001b[1;31m---------------------------------------------------------------------------\u001b[0m",
      "\u001b[1;31mKeyboardInterrupt\u001b[0m                         Traceback (most recent call last)",
      "\u001b[1;32mc:\\Users\\User\\Documents\\ITMGT\\Parada\\Parada.ipynb Cell 1\u001b[0m in \u001b[0;36m<cell line: 165>\u001b[1;34m()\u001b[0m\n\u001b[0;32m    <a href='vscode-notebook-cell:/c%3A/Users/User/Documents/ITMGT/Parada/Parada.ipynb#W0sZmlsZQ%3D%3D?line=162'>163</a>\u001b[0m         \u001b[39mreturn\u001b[39;00m Interactibles()\n\u001b[0;32m    <a href='vscode-notebook-cell:/c%3A/Users/User/Documents/ITMGT/Parada/Parada.ipynb#W0sZmlsZQ%3D%3D?line=164'>165</a>\u001b[0m \u001b[39mif\u001b[39;00m \u001b[39m__name__\u001b[39m \u001b[39m==\u001b[39m \u001b[39m\"\u001b[39m\u001b[39m__main__\u001b[39m\u001b[39m\"\u001b[39m:\n\u001b[1;32m--> <a href='vscode-notebook-cell:/c%3A/Users/User/Documents/ITMGT/Parada/Parada.ipynb#W0sZmlsZQ%3D%3D?line=165'>166</a>\u001b[0m     Pasada()\u001b[39m.\u001b[39;49mrun()\n",
      "File \u001b[1;32mc:\\ProgramData\\Anaconda3\\lib\\site-packages\\kivy\\app.py:955\u001b[0m, in \u001b[0;36mApp.run\u001b[1;34m(self)\u001b[0m\n\u001b[0;32m    952\u001b[0m \u001b[39m'''Launches the app in standalone mode.\u001b[39;00m\n\u001b[0;32m    953\u001b[0m \u001b[39m'''\u001b[39;00m\n\u001b[0;32m    954\u001b[0m \u001b[39mself\u001b[39m\u001b[39m.\u001b[39m_run_prepare()\n\u001b[1;32m--> 955\u001b[0m runTouchApp()\n\u001b[0;32m    956\u001b[0m \u001b[39mself\u001b[39m\u001b[39m.\u001b[39mstop()\n",
      "File \u001b[1;32mc:\\ProgramData\\Anaconda3\\lib\\site-packages\\kivy\\base.py:574\u001b[0m, in \u001b[0;36mrunTouchApp\u001b[1;34m(widget, embedded)\u001b[0m\n\u001b[0;32m    571\u001b[0m     \u001b[39mreturn\u001b[39;00m\n\u001b[0;32m    573\u001b[0m \u001b[39mtry\u001b[39;00m:\n\u001b[1;32m--> 574\u001b[0m     EventLoop\u001b[39m.\u001b[39;49mmainloop()\n\u001b[0;32m    575\u001b[0m \u001b[39mfinally\u001b[39;00m:\n\u001b[0;32m    576\u001b[0m     stopTouchApp()\n",
      "File \u001b[1;32mc:\\ProgramData\\Anaconda3\\lib\\site-packages\\kivy\\base.py:339\u001b[0m, in \u001b[0;36mEventLoopBase.mainloop\u001b[1;34m(self)\u001b[0m\n\u001b[0;32m    337\u001b[0m \u001b[39mwhile\u001b[39;00m \u001b[39mnot\u001b[39;00m \u001b[39mself\u001b[39m\u001b[39m.\u001b[39mquit \u001b[39mand\u001b[39;00m \u001b[39mself\u001b[39m\u001b[39m.\u001b[39mstatus \u001b[39m==\u001b[39m \u001b[39m'\u001b[39m\u001b[39mstarted\u001b[39m\u001b[39m'\u001b[39m:\n\u001b[0;32m    338\u001b[0m     \u001b[39mtry\u001b[39;00m:\n\u001b[1;32m--> 339\u001b[0m         \u001b[39mself\u001b[39;49m\u001b[39m.\u001b[39;49midle()\n\u001b[0;32m    340\u001b[0m         \u001b[39mif\u001b[39;00m \u001b[39mself\u001b[39m\u001b[39m.\u001b[39mwindow:\n\u001b[0;32m    341\u001b[0m             \u001b[39mself\u001b[39m\u001b[39m.\u001b[39mwindow\u001b[39m.\u001b[39mmainloop()\n",
      "File \u001b[1;32mc:\\ProgramData\\Anaconda3\\lib\\site-packages\\kivy\\base.py:379\u001b[0m, in \u001b[0;36mEventLoopBase.idle\u001b[1;34m(self)\u001b[0m\n\u001b[0;32m    370\u001b[0m \u001b[39m'''This function is called after every frame. By default:\u001b[39;00m\n\u001b[0;32m    371\u001b[0m \n\u001b[0;32m    372\u001b[0m \u001b[39m   * it \"ticks\" the clock to the next frame.\u001b[39;00m\n\u001b[1;32m   (...)\u001b[0m\n\u001b[0;32m    375\u001b[0m \u001b[39m     window.\u001b[39;00m\n\u001b[0;32m    376\u001b[0m \u001b[39m'''\u001b[39;00m\n\u001b[0;32m    378\u001b[0m \u001b[39m# update dt\u001b[39;00m\n\u001b[1;32m--> 379\u001b[0m Clock\u001b[39m.\u001b[39;49mtick()\n\u001b[0;32m    381\u001b[0m \u001b[39m# read and dispatch input from providers\u001b[39;00m\n\u001b[0;32m    382\u001b[0m \u001b[39mif\u001b[39;00m \u001b[39mnot\u001b[39;00m \u001b[39mself\u001b[39m\u001b[39m.\u001b[39mquit:\n",
      "File \u001b[1;32mc:\\ProgramData\\Anaconda3\\lib\\site-packages\\kivy\\clock.py:733\u001b[0m, in \u001b[0;36mClockBaseBehavior.tick\u001b[1;34m(self)\u001b[0m\n\u001b[0;32m    731\u001b[0m \u001b[39mself\u001b[39m\u001b[39m.\u001b[39mpre_idle()\n\u001b[0;32m    732\u001b[0m ts \u001b[39m=\u001b[39m \u001b[39mself\u001b[39m\u001b[39m.\u001b[39mtime()\n\u001b[1;32m--> 733\u001b[0m \u001b[39mself\u001b[39m\u001b[39m.\u001b[39mpost_idle(ts, \u001b[39mself\u001b[39;49m\u001b[39m.\u001b[39;49midle())\n",
      "File \u001b[1;32mc:\\ProgramData\\Anaconda3\\lib\\site-packages\\kivy\\clock.py:689\u001b[0m, in \u001b[0;36mClockBaseBehavior.idle\u001b[1;34m(self)\u001b[0m\n\u001b[0;32m    687\u001b[0m     done, sleeptime \u001b[39m=\u001b[39m ready(fps, min_sleep, undershoot)\n\u001b[0;32m    688\u001b[0m     \u001b[39mwhile\u001b[39;00m \u001b[39mnot\u001b[39;00m done:\n\u001b[1;32m--> 689\u001b[0m         usleep(\u001b[39m1000000\u001b[39;49m \u001b[39m*\u001b[39;49m sleeptime)\n\u001b[0;32m    690\u001b[0m         done, sleeptime \u001b[39m=\u001b[39m ready(fps, min_sleep, undershoot)\n\u001b[0;32m    692\u001b[0m current \u001b[39m=\u001b[39m \u001b[39mself\u001b[39m\u001b[39m.\u001b[39mtime()\n",
      "File \u001b[1;32mc:\\ProgramData\\Anaconda3\\lib\\site-packages\\kivy\\clock.py:965\u001b[0m, in \u001b[0;36mClockBase.usleep\u001b[1;34m(self, microseconds)\u001b[0m\n\u001b[0;32m    964\u001b[0m \u001b[39mdef\u001b[39;00m \u001b[39musleep\u001b[39m(\u001b[39mself\u001b[39m, microseconds):\n\u001b[1;32m--> 965\u001b[0m     _usleep(microseconds, \u001b[39mself\u001b[39;49m\u001b[39m.\u001b[39;49m_sleep_obj)\n",
      "File \u001b[1;32mc:\\ProgramData\\Anaconda3\\lib\\site-packages\\kivy\\clock.py:504\u001b[0m, in \u001b[0;36m_usleep\u001b[1;34m(microseconds, obj)\u001b[0m\n\u001b[0;32m    500\u001b[0m delay \u001b[39m=\u001b[39m ctypes\u001b[39m.\u001b[39mc_longlong(\u001b[39mint\u001b[39m(\u001b[39m-\u001b[39mmicroseconds \u001b[39m*\u001b[39m \u001b[39m10\u001b[39m))\n\u001b[0;32m    501\u001b[0m _kernel32\u001b[39m.\u001b[39mSetWaitableTimer(\n\u001b[0;32m    502\u001b[0m     obj, ctypes\u001b[39m.\u001b[39mbyref(delay), \u001b[39m0\u001b[39m,\n\u001b[0;32m    503\u001b[0m     ctypes\u001b[39m.\u001b[39mc_void_p(), ctypes\u001b[39m.\u001b[39mc_void_p(), \u001b[39mFalse\u001b[39;00m)\n\u001b[1;32m--> 504\u001b[0m _kernel32\u001b[39m.\u001b[39;49mWaitForSingleObject(obj, \u001b[39m0xffffffff\u001b[39;49m)\n",
      "\u001b[1;31mKeyboardInterrupt\u001b[0m: "
     ]
    }
   ],
   "source": [
    "\n",
    "\n",
    "\n",
    "\n",
    "#Building the App\n",
    "import kivy\n",
    "from kivymd.app import MDApp\n",
    "from kivy.garden.mapview import MapView, MapMarkerPopup, MapMarker, MapSource\n",
    "from kivy.uix.label import Label\n",
    "from kivy.app import App\n",
    "from kivy.uix.button import Button\n",
    "from kivy.uix.gridlayout import GridLayout\n",
    "from kivy.uix.textinput import TextInput\n",
    "import pandas as pd\n",
    "import plotly.express as px\n",
    "import plyer as ply\n",
    "import csv\n",
    "\n",
    "token = \"pk.eyJ1IjoiZ2VyYXJkc2FiaWxhZG8iLCJhIjoiY2xhbGg4Zzc4MDBkdzNubGdoYXQ5aWdoeCJ9.YQ97lBCUcW4Vl-wQExabgw\"\n",
    "# url='hhttps://drive.google.com/file/d/19HAFP72G0JkpM9ZbVW7wdKoqyWT3C2Oq/view?usp=sharing'\n",
    "# url='https://drive.google.com/uc?id=' + url.split('/')[-2]\n",
    "url=\"C:/Users/User/Documents/ITMGT/Parada/ph.csv\"\n",
    "\n",
    "def new_parking_spot(name, latitude, longitude, type, status):\n",
    "    file=open(url, \"r\")\n",
    "    data=list(csv.reader(file, delimiter=\",\"))\n",
    "    file.close()\n",
    "    number=len(data)\n",
    "    row = [number, name, latitude, longitude, type, status]\n",
    "    with open(url, \"a\", encoding = \"UTF8\", newline = '') as coords:\n",
    "        sharecoords = csv.writer(coords)\n",
    "        sharecoords.writerow(row)\n",
    "        coords.close()\n",
    "\n",
    "def occupying_parking_spot(spotnumber):\n",
    "    spotnumber=spotnumber-1\n",
    "    updating_file = pd.read_csv(url)\n",
    "    updating_file.loc[spotnumber, 'status'] = 'taken'\n",
    "    updating_file.to_csv(url, index=False)\n",
    "    \n",
    "def vacating_parking_spot(spotnumber):\n",
    "    spotnumber=spotnumber-1\n",
    "    updating_file = pd.read_csv(url)\n",
    "    updating_file.loc[spotnumber, 'status'] = 'vacant'\n",
    "    updating_file.to_csv(url, index=False)\n",
    "\n",
    "class Interactibles(GridLayout): #Builds the grid and the interactibles within it\n",
    "    def __init__(self, **kwargs):\n",
    "        super(Interactibles, self).__init__(**kwargs)\n",
    "        self.rows = 3\n",
    "        self.cols = 1\n",
    "\n",
    "        #Topbar\n",
    "\n",
    "        self.topbar = GridLayout()\n",
    "        self.topbar.cols=1\n",
    "        self.topbar.rows=4\n",
    "\n",
    "        self.slotnumberinput=TextInput(multiline = False)\n",
    "        self.topbar.add_widget(self.slotnumberinput)\n",
    "\n",
    "        self.SNlabel=Label(text=\"Slot Number\", font_size=28)\n",
    "        self.topbar.add_widget(self.SNlabel)\n",
    "\n",
    "        self.topbarbuttons=GridLayout()\n",
    "        self.topbarbuttons.cols=2\n",
    "        self.topbarbuttons.rows=1\n",
    "\n",
    "        self.OccupyButton=Button(text=\"Occupy Parking\", font_size=28, on_press=self.pressoccupy)\n",
    "        self.topbarbuttons.add_widget(self.OccupyButton)\n",
    "        \n",
    "        self.VacateButton=Button(text=\"Vacate Parking\", font_size=28, on_press=self.pressvacate)\n",
    "        self.topbarbuttons.add_widget(self.VacateButton)\n",
    "        \n",
    "        self.topbar.add_widget(self.topbarbuttons)\n",
    "        \n",
    "        self.refreshbutton=Button(text=\"refresh\", font_size=28, on_press=self.refresh)\n",
    "        self.topbar.add_widget(self.refreshbutton)\n",
    "\n",
    "        self.add_widget(self.topbar)\n",
    "\n",
    "        #Midbar\n",
    "        self.midbar = GridLayout()\n",
    "        self.midbar.cols=1\n",
    "        self.midbar.rows=4\n",
    "\n",
    "        self.descriptioninput=TextInput(multiline = False)\n",
    "        self.midbar.add_widget(self.descriptioninput)\n",
    "\n",
    "        self.descriptionlabel=Label(text=\"Description\", font_size=28)\n",
    "        self.midbar.add_widget(self.descriptionlabel)\n",
    "\n",
    "        self.typeinput=TextInput(multiline = False)\n",
    "        self.midbar.add_widget(self.typeinput)\n",
    "\n",
    "        self.typelabel=Label(text=\"Type\", font_size=28)\n",
    "        self.midbar.add_widget(self.typelabel)\n",
    "\n",
    "        self.add_widget(self.midbar)\n",
    "\n",
    "        #Botbar\n",
    "        self.botbar = GridLayout()\n",
    "        self.botbar.rows = 3\n",
    "        self.botbar.cols = 1\n",
    "\n",
    "        self.latlngloc = GridLayout()\n",
    "        self.latlngloc.cols = 2\n",
    "        self.latlngloc.rows = 1\n",
    "\n",
    "        self.latinput = TextInput(multiline = False)\n",
    "        self.latlngloc.add_widget(self.latinput)\n",
    "        self.lnginput = TextInput(multiline=False)\n",
    "        self.latlngloc.add_widget(self.lnginput)\n",
    "        self.botbar.add_widget(self.latlngloc)\n",
    "\n",
    "        self.latlnglabelloc = GridLayout()\n",
    "        self.latlnglabelloc.cols = 2\n",
    "        self.latlnglabelloc.rows = 1\n",
    "        self.latlabel = Label(text=\"Latitude\", font_size=28)\n",
    "        self.latlnglabelloc.add_widget(self.latlabel)\n",
    "\n",
    "        self.lnglabel = Label(text=\"Longitude\", font_size=28)\n",
    "        self.latlnglabelloc.add_widget(self.lnglabel)\n",
    "        \n",
    "        self.botbar.add_widget(self.latlnglabelloc)\n",
    "\n",
    "        self.latlngbuttonloc = GridLayout()\n",
    "        self.latlngbuttonloc.cols = 2\n",
    "        self.latlngbuttonloc.rows = 2\n",
    "        self.sharelocationbutton = Button(text = \"Share Parking Spot\", font_size = 32, on_press=self.sharespot)\n",
    "        self.latlngbuttonloc.add_widget(self.sharelocationbutton)\n",
    "        self.botbar.add_widget(self.latlngbuttonloc)\n",
    "\n",
    "        self.add_widget(self.botbar)\n",
    "\n",
    "    def pressoccupy(self, instance):\n",
    "        number = int(self.slotnumberinput.text)\n",
    "        occupying_parking_spot(number)\n",
    "        \n",
    "\n",
    "    def pressvacate(self, instance):\n",
    "        number = int(self.slotnumberinput.text)\n",
    "        vacating_parking_spot(number)\n",
    "        \n",
    "    \n",
    "    def sharespot(self, instance):\n",
    "        name = self.descriptioninput.text\n",
    "        latitude = float(self.latinput.text)\n",
    "        longitude = float(self.lnginput.text)\n",
    "        type = self.typeinput.text\n",
    "        status = \"vacant\"\n",
    "        new_parking_spot(name, latitude, longitude, type, status)\n",
    "\n",
    "    def refresh(self, instance):\n",
    "        us_cities = pd.read_csv(url)\n",
    "        fig = px.scatter_mapbox(us_cities, lat=\"lat\", lon=\"lng\", hover_name=\"Number\", hover_data=[\"Name\", \"type\", \"status\"],\n",
    "                        color_discrete_sequence=[\"fuchsia\"], zoom=13, height=300)\n",
    "        fig.update_layout(mapbox_style=\"mapbox://styles/gerardsabilado/claliebfr001b14pcgzu8sn1j\", mapbox_accesstoken=token)\n",
    "        fig.update_layout(margin={\"r\":0,\"t\":0,\"l\":0,\"b\":0})\n",
    "        fig.show()\n",
    "\n",
    "        \n",
    "        \n",
    "\n",
    "class Pasada(App): #What the program does when the App is initialized. When the app is started, it returns the grid we built beforehand.\n",
    "    def build(self):\n",
    "        return Interactibles()\n",
    "\n",
    "if __name__ == \"__main__\":\n",
    "    Pasada().run()"
   ]
  }
 ],
 "metadata": {
  "kernelspec": {
   "display_name": "Python 3.9.12 ('base')",
   "language": "python",
   "name": "python3"
  },
  "language_info": {
   "codemirror_mode": {
    "name": "ipython",
    "version": 3
   },
   "file_extension": ".py",
   "mimetype": "text/x-python",
   "name": "python",
   "nbconvert_exporter": "python",
   "pygments_lexer": "ipython3",
   "version": "3.9.12"
  },
  "vscode": {
   "interpreter": {
    "hash": "ad2bdc8ecc057115af97d19610ffacc2b4e99fae6737bb82f5d7fb13d2f2c186"
   }
  }
 },
 "nbformat": 4,
 "nbformat_minor": 5
}
